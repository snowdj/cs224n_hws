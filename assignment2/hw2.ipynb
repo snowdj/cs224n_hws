{
 "cells": [
  {
   "cell_type": "markdown",
   "metadata": {},
   "source": [
    "**Note**: I adapted the starter codes to make them compatible with python 3. All codes were run in python 3 (rather than the officially supported version of python, i.e., python 2) unless clarified. As a result, I got slightly different results with solution for some questions, but all of my results passed the sanity check. "
   ]
  },
  {
   "cell_type": "markdown",
   "metadata": {},
   "source": [
    "### Q1: Tensorflow Softmax"
   ]
  },
  {
   "cell_type": "markdown",
   "metadata": {},
   "source": [
    "**1a** and **1b**."
   ]
  },
  {
   "cell_type": "code",
   "execution_count": 1,
   "metadata": {},
   "outputs": [
    {
     "name": "stdout",
     "output_type": "stream",
     "text": [
      "Softmax test 1 passed!\n",
      "Softmax test 2 passed!\n",
      "Basic (non-exhaustive) softmax tests pass\n",
      "\n",
      "Cross-entropy test 1 passed!\n",
      "Basic (non-exhaustive) cross-entropy tests pass\n"
     ]
    }
   ],
   "source": [
    "%%bash\n",
    "source activate py36\n",
    "python q1_softmax.py"
   ]
  },
  {
   "cell_type": "markdown",
   "metadata": {},
   "source": [
    "**1c**. Placeholder variables and feed dictionaries make it possible to feed data into the computational graph."
   ]
  },
  {
   "cell_type": "markdown",
   "metadata": {},
   "source": [
    "**1d** and **1e**."
   ]
  },
  {
   "cell_type": "code",
   "execution_count": 2,
   "metadata": {},
   "outputs": [
    {
     "name": "stdout",
     "output_type": "stream",
     "text": [
      "Epoch 0: loss = 59.18 (0.113 sec)\n",
      "Epoch 1: loss = 20.32 (0.009 sec)\n",
      "Epoch 2: loss = 10.92 (0.008 sec)\n",
      "Epoch 3: loss = 7.30 (0.007 sec)\n",
      "Epoch 4: loss = 5.44 (0.006 sec)\n",
      "Epoch 5: loss = 4.32 (0.007 sec)\n",
      "Epoch 6: loss = 3.58 (0.006 sec)\n",
      "Epoch 7: loss = 3.05 (0.006 sec)\n",
      "Epoch 8: loss = 2.65 (0.006 sec)\n",
      "Epoch 9: loss = 2.35 (0.006 sec)\n",
      "Epoch 10: loss = 2.11 (0.006 sec)\n",
      "Epoch 11: loss = 1.91 (0.006 sec)\n",
      "Epoch 12: loss = 1.75 (0.006 sec)\n",
      "Epoch 13: loss = 1.61 (0.006 sec)\n",
      "Epoch 14: loss = 1.49 (0.006 sec)\n",
      "Epoch 15: loss = 1.39 (0.006 sec)\n",
      "Epoch 16: loss = 1.30 (0.006 sec)\n",
      "Epoch 17: loss = 1.22 (0.006 sec)\n",
      "Epoch 18: loss = 1.15 (0.006 sec)\n",
      "Epoch 19: loss = 1.09 (0.006 sec)\n",
      "Epoch 20: loss = 1.03 (0.007 sec)\n",
      "Epoch 21: loss = 0.98 (0.006 sec)\n",
      "Epoch 22: loss = 0.94 (0.006 sec)\n",
      "Epoch 23: loss = 0.89 (0.006 sec)\n",
      "Epoch 24: loss = 0.86 (0.006 sec)\n",
      "Epoch 25: loss = 0.82 (0.006 sec)\n",
      "Epoch 26: loss = 0.79 (0.006 sec)\n",
      "Epoch 27: loss = 0.76 (0.006 sec)\n",
      "Epoch 28: loss = 0.73 (0.006 sec)\n",
      "Epoch 29: loss = 0.71 (0.006 sec)\n",
      "Epoch 30: loss = 0.68 (0.006 sec)\n",
      "Epoch 31: loss = 0.66 (0.006 sec)\n",
      "Epoch 32: loss = 0.64 (0.006 sec)\n",
      "Epoch 33: loss = 0.62 (0.006 sec)\n",
      "Epoch 34: loss = 0.60 (0.006 sec)\n",
      "Epoch 35: loss = 0.58 (0.006 sec)\n",
      "Epoch 36: loss = 0.57 (0.006 sec)\n",
      "Epoch 37: loss = 0.55 (0.006 sec)\n",
      "Epoch 38: loss = 0.54 (0.007 sec)\n",
      "Epoch 39: loss = 0.52 (0.006 sec)\n",
      "Epoch 40: loss = 0.51 (0.006 sec)\n",
      "Epoch 41: loss = 0.50 (0.006 sec)\n",
      "Epoch 42: loss = 0.48 (0.006 sec)\n",
      "Epoch 43: loss = 0.47 (0.006 sec)\n",
      "Epoch 44: loss = 0.46 (0.006 sec)\n",
      "Epoch 45: loss = 0.45 (0.006 sec)\n",
      "Epoch 46: loss = 0.44 (0.006 sec)\n",
      "Epoch 47: loss = 0.43 (0.006 sec)\n",
      "Epoch 48: loss = 0.42 (0.006 sec)\n",
      "Epoch 49: loss = 0.41 (0.006 sec)\n",
      "Basic (non-exhaustive) classifier tests pass\n"
     ]
    }
   ],
   "source": [
    "%%bash\n",
    "source activate py36\n",
    "python q1_classifier.py"
   ]
  },
  {
   "cell_type": "markdown",
   "metadata": {},
   "source": [
    "During forward propagation, the loss gets computed; during backpropagation, the derivatives with respect to the variables in the graph get computed; after the op has been run, the variables in the graph will be updated."
   ]
  },
  {
   "cell_type": "code",
   "execution_count": null,
   "metadata": {},
   "outputs": [],
   "source": []
  },
  {
   "cell_type": "code",
   "execution_count": null,
   "metadata": {},
   "outputs": [],
   "source": []
  },
  {
   "cell_type": "code",
   "execution_count": null,
   "metadata": {},
   "outputs": [],
   "source": []
  }
 ],
 "metadata": {
  "kernelspec": {
   "display_name": "Python (py36)",
   "language": "python",
   "name": "py36"
  },
  "language_info": {
   "codemirror_mode": {
    "name": "ipython",
    "version": 3
   },
   "file_extension": ".py",
   "mimetype": "text/x-python",
   "name": "python",
   "nbconvert_exporter": "python",
   "pygments_lexer": "ipython3",
   "version": "3.6.5"
  }
 },
 "nbformat": 4,
 "nbformat_minor": 2
}
