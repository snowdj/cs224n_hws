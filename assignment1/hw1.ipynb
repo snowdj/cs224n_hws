{
 "cells": [
  {
   "cell_type": "markdown",
   "metadata": {},
   "source": [
    "### Q1: Softmax"
   ]
  },
  {
   "cell_type": "markdown",
   "metadata": {},
   "source": [
    "**1a**. Proof: $$\\text{softmax}(x+c)_i = \\frac{e^{x_i+c}}{\\sum_je^{x_j+c}}=\\frac{e^ce^{x_i}}{e^c\\sum_je^{x_j}}\n",
    "=\\frac{e^{x_i}}{\\sum_je^{x_j}}=\\text{softmax}(x)_i$$"
   ]
  },
  {
   "cell_type": "markdown",
   "metadata": {},
   "source": [
    "**1b**."
   ]
  },
  {
   "cell_type": "code",
   "execution_count": 1,
   "metadata": {},
   "outputs": [
    {
     "name": "stdout",
     "output_type": "stream",
     "text": [
      "Running basic tests...\n",
      "[0.26894142 0.73105858]\n",
      "[[0.26894142 0.73105858]\n",
      " [0.26894142 0.73105858]]\n",
      "[[0.73105858 0.26894142]]\n",
      "You should be able to verify these results by hand!\n",
      "\n"
     ]
    }
   ],
   "source": [
    "%%bash\n",
    "python q1_softmax.py"
   ]
  },
  {
   "cell_type": "markdown",
   "metadata": {},
   "source": [
    "### Q2: Neural Network Basics"
   ]
  },
  {
   "cell_type": "markdown",
   "metadata": {},
   "source": [
    "**2a**.\n",
    "$$\\sigma'(x)=\\frac{-1}{(1+e^{-x})^2}\\cdot(-e^{-x})=\\frac{1}{1+e^{-x}}\\cdot\\frac{e^{-x}}{1+e^{-x}}\n",
    "=\\sigma(x)(1-\\sigma(x))$$"
   ]
  },
  {
   "cell_type": "markdown",
   "metadata": {},
   "source": [
    "**2b**. Assume that only the k-th dimension of $\\boldsymbol{y}$ is 1 and others are 0. We have\n",
    "$$CE(\\boldsymbol{y}, \\boldsymbol{\\hat{y}})=-y_k\\log (\\hat{y}_k)=-y_k(\\log e^{\\theta_k}-\\log \\sum_i e^{\\theta_i}) = \\log \\sum_i e^{\\theta_i} - \\theta_k$$\n",
    "$$\\frac{\\partial CE(\\boldsymbol{y}, \\boldsymbol{\\hat{y}})}{\\partial\\theta_k}\n",
    "=\\frac{e^{\\theta_k}}{\\sum_i e^{\\theta_i}}-1=\\hat{y}_k-1$$\n",
    "For $j \\neq k$,\n",
    "$$\\frac{\\partial CE(\\boldsymbol{y}, \\boldsymbol{\\hat{y}})}{\\partial\\theta_j}\n",
    "=\\frac{e^{\\theta_j}}{\\sum_i e^{\\theta_i}}=\\hat{y}_j$$\n",
    "\n",
    "$$\\therefore \\frac{\\partial CE(\\boldsymbol{y}, \\boldsymbol{\\hat{y}})}{\\partial\\boldsymbol{\\theta}}=\\boldsymbol{\\hat{y}}-\\boldsymbol{y}$$"
   ]
  },
  {
   "cell_type": "markdown",
   "metadata": {},
   "source": [
    "**2c**. Denote $z_1=xW_1+b_1$ and $z_2=hW_2+b_2$, then\n",
    "\n",
    "$$\\frac{\\partial J}{\\partial x} = (\\frac{\\partial J}{\\partial z_2}\\frac{\\partial z_2}{\\partial h}\\odot\\frac{\\partial h}{\\partial z_1})\\frac{\\partial z_1}{\\partial x}\n",
    "=((\\hat{y}-y)W_2^\\text{T}\\odot(h(1-h))W_1^\\text{T})$$"
   ]
  },
  {
   "cell_type": "markdown",
   "metadata": {},
   "source": [
    "**2d**. The total number of parameters is $(D_x+1)H+(H+1)D_y$."
   ]
  },
  {
   "cell_type": "markdown",
   "metadata": {},
   "source": [
    "**2e**."
   ]
  },
  {
   "cell_type": "code",
   "execution_count": 2,
   "metadata": {},
   "outputs": [
    {
     "name": "stdout",
     "output_type": "stream",
     "text": [
      "Running basic tests...\n",
      "[[0.73105858 0.88079708]\n",
      " [0.26894142 0.11920292]]\n",
      "[[0.19661193 0.10499359]\n",
      " [0.19661193 0.10499359]]\n",
      "You should verify these results by hand!\n",
      "\n"
     ]
    }
   ],
   "source": [
    "%%bash\n",
    "python q2_sigmoid.py"
   ]
  },
  {
   "cell_type": "markdown",
   "metadata": {},
   "source": [
    "**2f**."
   ]
  },
  {
   "cell_type": "code",
   "execution_count": 3,
   "metadata": {},
   "outputs": [
    {
     "name": "stdout",
     "output_type": "stream",
     "text": [
      "Running sanity checks...\n",
      "Gradient check passed!\n",
      "Gradient check passed!\n",
      "Gradient check passed!\n",
      "\n"
     ]
    }
   ],
   "source": [
    "%%bash\n",
    "python q2_gradcheck.py"
   ]
  },
  {
   "cell_type": "markdown",
   "metadata": {},
   "source": [
    "**2g**."
   ]
  },
  {
   "cell_type": "code",
   "execution_count": 4,
   "metadata": {},
   "outputs": [
    {
     "name": "stdout",
     "output_type": "stream",
     "text": [
      "Running sanity check...\n",
      "Gradient check passed!\n"
     ]
    }
   ],
   "source": [
    "%%bash\n",
    "python q2_neural.py"
   ]
  },
  {
   "cell_type": "code",
   "execution_count": null,
   "metadata": {},
   "outputs": [],
   "source": []
  },
  {
   "cell_type": "code",
   "execution_count": null,
   "metadata": {},
   "outputs": [],
   "source": []
  },
  {
   "cell_type": "code",
   "execution_count": null,
   "metadata": {},
   "outputs": [],
   "source": []
  },
  {
   "cell_type": "code",
   "execution_count": null,
   "metadata": {},
   "outputs": [],
   "source": []
  }
 ],
 "metadata": {
  "kernelspec": {
   "display_name": "Python (py36)",
   "language": "python",
   "name": "py36"
  },
  "language_info": {
   "codemirror_mode": {
    "name": "ipython",
    "version": 3
   },
   "file_extension": ".py",
   "mimetype": "text/x-python",
   "name": "python",
   "nbconvert_exporter": "python",
   "pygments_lexer": "ipython3",
   "version": "3.6.5"
  }
 },
 "nbformat": 4,
 "nbformat_minor": 2
}
